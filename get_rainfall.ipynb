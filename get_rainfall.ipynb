{
 "cells": [
  {
   "cell_type": "code",
   "execution_count": null,
   "id": "48ef1c15",
   "metadata": {},
   "outputs": [],
   "source": [
    "import pandas as pd\n",
    "import requests\n",
    "import json\n",
    "from datetime import datetime, timedelta"
   ]
  },
  {
   "cell_type": "markdown",
   "id": "e46ea55c",
   "metadata": {},
   "source": [
    "Choose a monitoring station.\n",
    "This one is This is Day Brook in Nottingham"
   ]
  },
  {
   "cell_type": "code",
   "execution_count": null,
   "id": "b487d661",
   "metadata": {},
   "outputs": [],
   "source": [
    "station = '4163'"
   ]
  },
  {
   "cell_type": "code",
   "execution_count": null,
   "id": "ca690b43",
   "metadata": {},
   "outputs": [],
   "source": [
    "day = datetime.fromisoformat('2022-03-22')"
   ]
  },
  {
   "cell_type": "markdown",
   "id": "d4ecef93",
   "metadata": {},
   "source": [
    "URL is created based on [API](https://environment.data.gov.uk/flood-monitoring/doc/reference#stations)"
   ]
  },
  {
   "cell_type": "code",
   "execution_count": null,
   "id": "848cf478",
   "metadata": {},
   "outputs": [],
   "source": [
    "url = 'https://environment.data.gov.uk/flood-monitoring/id/stations/' + station + '/readings?date='+str(day.strftime(\"%Y-%m-%d\"))"
   ]
  },
  {
   "cell_type": "code",
   "execution_count": null,
   "id": "8376fbfd",
   "metadata": {},
   "outputs": [],
   "source": [
    "response = requests.get(url)"
   ]
  },
  {
   "cell_type": "code",
   "execution_count": null,
   "id": "a9a0eb8c",
   "metadata": {},
   "outputs": [],
   "source": [
    "responsetext = response.text\n",
    "rainfall = json.loads(responsetext)"
   ]
  },
  {
   "cell_type": "code",
   "execution_count": null,
   "id": "56d24652",
   "metadata": {},
   "outputs": [],
   "source": [
    "dayRain = 0.0\n",
    "for item in rainfall['items']:\n",
    "    periodRain = item['value']\n",
    "    dayRain += periodRain\n",
    "    \n",
    "print(dayRain)"
   ]
  }
 ],
 "metadata": {
  "kernelspec": {
   "display_name": "Python 3 (ipykernel)",
   "language": "python",
   "name": "python3"
  },
  "language_info": {
   "codemirror_mode": {
    "name": "ipython",
    "version": 3
   },
   "file_extension": ".py",
   "mimetype": "text/x-python",
   "name": "python",
   "nbconvert_exporter": "python",
   "pygments_lexer": "ipython3",
   "version": "3.9.7"
  }
 },
 "nbformat": 4,
 "nbformat_minor": 5
}
